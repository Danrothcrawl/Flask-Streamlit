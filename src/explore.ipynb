{
    "cells": [
        {
            "cell_type": "markdown",
            "metadata": {},
            "source": [
                "\n",
                "-----------------Elementos de texto:-----------------------------\n",
                "st.title(): Muestra un título grande en la aplicación.\n",
                "st.header(): Muestra un encabezado.\n",
                "st.subheader(): Muestra un subencabezado.\n",
                "st.text(): Muestra texto sin formato.\n",
                "st.markdown(): Permite mostrar texto formateado con Markdown.\n",
                "st.latex(): Muestra fórmulas matemáticas en formato LaTeX.\n",
                "st.code(): Muestra código fuente con resaltado de sintaxis. \n",
                "\n",
                "--------------------Widgets de entrada:--------------------------------\n",
                "st.button(): Crea un botón que ejecuta una acción al ser presionado.\n",
                "st.radio(): Crea un widget de selección única (botones de radio).\n",
                "st.selectbox(): Crea un menú desplegable para selección única.\n",
                "st.multiselect(): Crea un menú desplegable para selección múltiple.\n",
                "st.slider(): Crea un control deslizante para seleccionar un valor dentro de un rango.\n",
                "st.number_input(): Crea un campo para ingresar un valor numérico.\n",
                "st.text_input(): Crea un campo para ingresar texto.\n",
                "st.date_input(): Crea un campo para seleccionar una fecha.\n",
                "st.time_input(): Crea un campo para seleccionar una hora.\n",
                "st.file_uploader(): Permite cargar archivos.\n",
                "st.color_picker(): Permite seleccionar un color.\n",
                "\n",
                "-------------------------------------Visualización de datos:-------------------------\n",
                "st.dataframe(): Muestra un DataFrame de Pandas como una tabla interactiva.\n",
                "st.table(): Muestra un DataFrame de Pandas como una tabla estática.\n",
                "st.line_chart(), st.bar_chart(), st.scatter_chart(): Crea gráficos de línea, barra y dispersión, respectivamente.\n",
                "st.pyplot(): Muestra gráficos creados con matplotlib.\n",
                "st.plotly_chart(): Muestra gráficos creados con Plotly.\n",
                "st.altair_chart(): Muestra gráficos creados con Altair.\n",
                "st.map(): Muestra un mapa con ubicaciones geográficas.\n",
                "\n",
                "-----------------------------Manejo del estado de la aplicación----------------------------------------\n",
                "st.session_state: Almacena datos entre ejecuciones de la aplicación, permitiendo mantener el estado de la interfaz.\n",
                "st.spinner(): Muestra un mensaje de espera mientras se ejecuta una función.\n",
                "st.progress(): Muestra una barra de progreso.\n",
                "st.success(), st.warning(), st.error(), st.info(): Muestran mensajes de éxito, advertencia, error e información, respectivamente.\n",
                "st.exception(): Muestra mensajes de excepción.\n"
            ]
        },
        {
            "cell_type": "code",
            "execution_count": null,
            "metadata": {
                "vscode": {
                    "languageId": "plaintext"
                }
            },
            "outputs": [],
            "source": [
                "# aqui"
            ]
        }
    ],
    "metadata": {
        "kernelspec": {
            "display_name": "Python 3.8.13 64-bit ('3.8.13')",
            "language": "python",
            "name": "python3"
        },
        "language_info": {
            "codemirror_mode": {
                "name": "ipython",
                "version": 3
            },
            "file_extension": ".py",
            "mimetype": "text/x-python",
            "name": "python",
            "nbconvert_exporter": "python",
            "pygments_lexer": "ipython3",
            "version": "3.8.13"
        },
        "orig_nbformat": 4,
        "vscode": {
            "interpreter": {
                "hash": "110cc1dee26208153f2972f08a2ad52b6a56238dc66d48e87fb757ef2996db56"
            }
        }
    },
    "nbformat": 4,
    "nbformat_minor": 2
}
